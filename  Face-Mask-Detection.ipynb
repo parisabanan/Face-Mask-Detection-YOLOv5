{
 "cells": [
  {
   "cell_type": "markdown",
   "id": "ab90f14a-f561-4252-9d97-fbbb7be954fc",
   "metadata": {},
   "source": [
    "# Face Mask Detection | YOLOv5\n",
    "\n",
    "\n",
    "The purpose of this notebook is to create a Deep Learning model that identifies whether or not someone is wearing a mask. My model is based on YOLO's object detection algorithm, and I'm using the dataset from kaggle's website, which is linked below. A few changes have been made to the dataset's structure. Below is the structure of the dataset that contains 6900 image data and their labels in YOLOv5 format.\n",
    "```\n",
    ".\n",
    "└── raw_data\n",
    "    ├── classes.txt\n",
    "    ├── images\n",
    "    └── labels\n",
    "```\n",
    "\n",
    "YOLOv5 : https://github.com/ultralytics/yolov5\n",
    "\n",
    "Dataset : https://www.kaggle.com/datasets/parot99/face-mask-detection-yolo-darknet-format\n",
    "\n",
    "**The dataset consists of two classes:**\n",
    "- with_mask\n",
    "- without_mask\n",
    "\n",
    "\n",
    "**The dataset is split into 3 sets:**\n",
    "- Train : 5800 images\n",
    "- Validation : 1000 images\n",
    "- Test : 100 images\n"
   ]
  },
  {
   "cell_type": "code",
   "execution_count": 1,
   "id": "22839c53-be6f-42a2-b963-dc6bc5c2890a",
   "metadata": {},
   "outputs": [],
   "source": [
    "import warnings\n",
    "warnings.filterwarnings('ignore')\n",
    "\n",
    "import torch \n",
    "import os\n",
    "import shutil \n",
    "import random\n",
    "from PIL import Image"
   ]
  },
  {
   "cell_type": "markdown",
   "id": "24281682-b09d-4c9c-a9d1-ac89b17ef371",
   "metadata": {},
   "source": [
    "### Data preparation"
   ]
  },
  {
   "cell_type": "code",
   "execution_count": 2,
   "id": "8bbfad4f-a52f-49ef-a1bf-3b1b911163f3",
   "metadata": {},
   "outputs": [
    {
     "name": "stdout",
     "output_type": "stream",
     "text": [
      "Current Working Directory : /Users/parisa/Face-Mask-Detection-YOLOv5\n"
     ]
    }
   ],
   "source": [
    "cwd = os.getcwd()\n",
    "print(f'Current Working Directory : {cwd}')"
   ]
  },
  {
   "cell_type": "code",
   "execution_count": 3,
   "id": "1f4f3495-fd09-4278-95f8-5877337925ea",
   "metadata": {},
   "outputs": [],
   "source": [
    "# Verify that each image has a label\n",
    "\n",
    "raw_images_dir = os.path.join(cwd, 'raw_data/images')\n",
    "raw_labels_dir = os.path.join(cwd, 'raw_data/labels')\n",
    "\n",
    "for file in os.listdir(raw_images_dir):\n",
    "    file_name, file_extension = os.path.splitext(file)\n",
    "    label = file_name + '.txt'\n",
    "    if label not in os.listdir(raw_labels_dir):\n",
    "        print(f'Label For Image \"{file_name}\" Is Not Found')"
   ]
  },
  {
   "cell_type": "markdown",
   "id": "12fcbee6-c8fe-4894-a7ff-0550128451be",
   "metadata": {},
   "source": [
    "To split image data (raw_data) into train, test, and validation sets, I created new directories using the \"create_dir\" function, then moved each image and label into its final location. Below is the structure of the dataset directory we are going to use for training our model. \n",
    "```\n",
    ".\n",
    "└── dataset\n",
    "    ├── images\n",
    "    │   ├── train\n",
    "    │   ├── test\n",
    "    │   └── val\n",
    "    └── labels\n",
    "        ├── train\n",
    "        ├── test\n",
    "        └── val\n",
    "```"
   ]
  },
  {
   "cell_type": "code",
   "execution_count": 4,
   "id": "f59dfc7b-03d0-4d30-b553-d6984bd2c67b",
   "metadata": {},
   "outputs": [],
   "source": [
    "def create_dir(root_dir, sub_dir):\n",
    "    try:\n",
    "        path = os.path.join(root_dir, sub_dir)\n",
    "        os.makedirs(path)\n",
    "        print(f'Directory \"{path}\" Created')\n",
    "    except FileExistsError:\n",
    "        print('Directory Already Exists') "
   ]
  },
  {
   "cell_type": "code",
   "execution_count": 5,
   "id": "c068a721-4361-4546-9576-13ff2378ce76",
   "metadata": {},
   "outputs": [
    {
     "name": "stdout",
     "output_type": "stream",
     "text": [
      "Directory \"/Users/parisa/Face-Mask-Detection-YOLOv5/dataset/images/train\" Created\n",
      "Directory \"/Users/parisa/Face-Mask-Detection-YOLOv5/dataset/images/val\" Created\n",
      "Directory \"/Users/parisa/Face-Mask-Detection-YOLOv5/dataset/images/test\" Created\n",
      "Directory \"/Users/parisa/Face-Mask-Detection-YOLOv5/dataset/labels/train\" Created\n",
      "Directory \"/Users/parisa/Face-Mask-Detection-YOLOv5/dataset/labels/val\" Created\n",
      "Directory \"/Users/parisa/Face-Mask-Detection-YOLOv5/dataset/labels/test\" Created\n"
     ]
    }
   ],
   "source": [
    "sub_dirs = [\n",
    "    'dataset/images/train', \n",
    "    'dataset/images/val', \n",
    "    'dataset/images/test',\n",
    "    'dataset/labels/train', \n",
    "    'dataset/labels/val',\n",
    "    'dataset/labels/test'\n",
    "]\n",
    "\n",
    "for sub_dir in sub_dirs:\n",
    "    create_dir(cwd, sub_dir)"
   ]
  },
  {
   "cell_type": "code",
   "execution_count": 6,
   "id": "3f9e6c49-f322-460f-92f6-000f75a1f446",
   "metadata": {},
   "outputs": [],
   "source": [
    "train_size = 5800\n",
    "val_size = 1000\n",
    "test_size = 100\n",
    "\n",
    "train_samples = random.sample(os.listdir(raw_images_dir), train_size)\n",
    "for sample in train_samples:\n",
    "    os.listdir(raw_images_dir).remove(sample)\n",
    "    \n",
    "val_samples = random.sample(os.listdir(raw_images_dir), val_size)\n",
    "for sample in val_samples:\n",
    "    os.listdir(raw_images_dir).remove(sample)\n",
    "    \n",
    "test_samples = random.sample(os.listdir(raw_images_dir), test_size)"
   ]
  },
  {
   "cell_type": "code",
   "execution_count": 7,
   "id": "20dac0f6-0f97-49fa-b41e-e71773ebe0b4",
   "metadata": {},
   "outputs": [],
   "source": [
    "# Move images and labels of training set \n",
    "\n",
    "train_image_path = os.path.join(cwd, 'dataset/images/train/')\n",
    "train_labels_path = os.path.join(cwd, 'dataset/labels/train/')\n",
    "\n",
    "for sample in train_samples:\n",
    "    # move image\n",
    "    image = Image.open(os.path.join(raw_images_dir, sample))\n",
    "    image = image.convert('RGB')\n",
    "    image.save(train_image_path + sample, format=\"jpeg\") \n",
    "    os.listdir(raw_images_dir).remove(sample)\n",
    "    # move label\n",
    "    sample_name, sample_extension = os.path.splitext(sample)\n",
    "    label = os.path.join(raw_labels_dir, sample_name + '.txt')\n",
    "    shutil.copy(label, os.path.join(train_labels_path, sample_name + '.txt'))"
   ]
  },
  {
   "cell_type": "code",
   "execution_count": 8,
   "id": "88baa15a-efe1-4031-b1ec-0b5aa8fd8d94",
   "metadata": {},
   "outputs": [],
   "source": [
    "# Move images and labels of validation set\n",
    "\n",
    "val_image_path = os.path.join(cwd, 'dataset/images/val/')\n",
    "val_labels_path = os.path.join(cwd, 'dataset/labels/val/')\n",
    "\n",
    "for sample in val_samples:\n",
    "    # move image\n",
    "    image = Image.open(os.path.join(raw_images_dir, sample))\n",
    "    image = image.convert('RGB')\n",
    "    image.save(val_image_path + sample, format=\"jpeg\") \n",
    "    os.listdir(raw_images_dir).remove(sample)\n",
    "    # move label\n",
    "    sample_name, sample_extension = os.path.splitext(sample)\n",
    "    label = os.path.join(raw_labels_dir, sample_name + '.txt')\n",
    "    shutil.copy(label, os.path.join(val_labels_path, sample_name + '.txt'))"
   ]
  },
  {
   "cell_type": "code",
   "execution_count": 9,
   "id": "119b0d8c-7ef9-4b58-9f34-7849450e5967",
   "metadata": {},
   "outputs": [],
   "source": [
    "# Move images and labels of test set\n",
    "\n",
    "test_image_path = os.path.join(cwd, 'dataset/images/test/')\n",
    "test_labels_path = os.path.join(cwd, 'dataset/labels/test/')\n",
    "\n",
    "for sample in test_samples:\n",
    "    # move image\n",
    "    image = Image.open(os.path.join(raw_images_dir, sample))\n",
    "    image = image.convert('RGB')\n",
    "    image.save(test_image_path + sample, format=\"jpeg\") \n",
    "    os.listdir(raw_images_dir).remove(sample)\n",
    "    # move label\n",
    "    sample_name, sample_extension = os.path.splitext(sample)\n",
    "    label = os.path.join(raw_labels_dir, sample_name + '.txt')\n",
    "    shutil.copy(label, os.path.join(test_labels_path, sample_name + '.txt'))"
   ]
  },
  {
   "cell_type": "markdown",
   "id": "06e797e5-24c3-4138-9c6a-7a86c01abe9e",
   "metadata": {},
   "source": [
    "### Model training"
   ]
  },
  {
   "cell_type": "code",
   "execution_count": null,
   "id": "72c97f7e-d572-427c-b906-2e0a386a9773",
   "metadata": {},
   "outputs": [],
   "source": []
  }
 ],
 "metadata": {
  "kernelspec": {
   "display_name": "Python 3 (ipykernel)",
   "language": "python",
   "name": "python3"
  },
  "language_info": {
   "codemirror_mode": {
    "name": "ipython",
    "version": 3
   },
   "file_extension": ".py",
   "mimetype": "text/x-python",
   "name": "python",
   "nbconvert_exporter": "python",
   "pygments_lexer": "ipython3",
   "version": "3.10.8"
  }
 },
 "nbformat": 4,
 "nbformat_minor": 5
}
